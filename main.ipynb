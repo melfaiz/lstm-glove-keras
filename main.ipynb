{
 "metadata": {
  "language_info": {
   "codemirror_mode": {
    "name": "ipython",
    "version": 3
   },
   "file_extension": ".py",
   "mimetype": "text/x-python",
   "name": "python",
   "nbconvert_exporter": "python",
   "pygments_lexer": "ipython3",
   "version": "3.8.3-final"
  },
  "orig_nbformat": 2,
  "kernelspec": {
   "name": "python3",
   "display_name": "Python 3",
   "language": "python"
  }
 },
 "nbformat": 4,
 "nbformat_minor": 2,
 "cells": [
  {
   "source": [
    "# Sentiment classification of IMDB movie ratings"
   ],
   "cell_type": "markdown",
   "metadata": {}
  },
  {
   "source": [
    " ## Using EMBEDDINGS and LSTM"
   ],
   "cell_type": "markdown",
   "metadata": {}
  },
  {
   "source": [
    "<img src=\"plan.png\" height=\"500\">"
   ],
   "cell_type": "markdown",
   "metadata": {}
  },
  {
   "cell_type": "code",
   "execution_count": 1,
   "metadata": {},
   "outputs": [],
   "source": [
    "import keras.datasets.imdb as imdb\n",
    "import numpy as np\n",
    "from keras.models import Sequential\n",
    "from keras.layers import Dense\n",
    "from keras.layers import LSTM\n",
    "from keras.layers.embeddings import Embedding\n",
    "from keras.preprocessing import sequence"
   ]
  },
  {
   "cell_type": "code",
   "execution_count": 2,
   "metadata": {},
   "outputs": [
    {
     "output_type": "stream",
     "name": "stdout",
     "text": [
      "25000 Training sequences\n25000 Validation sequences\n"
     ]
    }
   ],
   "source": [
    "# load the dataset but only keep the top n words, zero the rest\n",
    "top_words = 5000\n",
    "(X_train, y_train), (X_test, y_test) = imdb.load_data(num_words=top_words)\n",
    "\n",
    "print(len(X_train), \"Training sequences\")\n",
    "print(len(X_test), \"Validation sequences\")"
   ]
  },
  {
   "cell_type": "code",
   "execution_count": 3,
   "metadata": {},
   "outputs": [],
   "source": [
    "index = imdb.get_word_index()\n",
    "reverse_index = dict([(value, key) for (key, value) in index.items()]) "
   ]
  },
  {
   "cell_type": "code",
   "execution_count": 4,
   "metadata": {},
   "outputs": [],
   "source": [
    "def sequence2text(array):\n",
    "    decoded = \" \".join( [reverse_index.get(i-3 , \"\") for i in array] )\n",
    "    return decoded[1:] #remove first space from join()"
   ]
  },
  {
   "cell_type": "code",
   "execution_count": 5,
   "metadata": {},
   "outputs": [
    {
     "output_type": "execute_result",
     "data": {
      "text/plain": [
       "\"this film was just brilliant casting location scenery story direction everyone's really suited the part they played and you could just imagine being there robert  is an amazing actor and now the same being director  father came from the same scottish island as myself so i loved the fact there was a real connection with this film the witty remarks throughout the film were great it was just brilliant so much that i bought the film as soon as it was released for  and would recommend it to everyone to watch and the fly  was amazing really cried at the end it was so sad and you know what they say if you cry at a film it must have been good and this definitely was also  to the two little  that played the  of norman and paul they were just brilliant children are often left out of the  list i think because the stars that play them all grown up are such a big  for the whole film but these children are amazing and should be  for what they have done don't you think the whole story was so lovely because it was true and was someone's life after all that was  with us all\""
      ]
     },
     "metadata": {},
     "execution_count": 5
    }
   ],
   "source": [
    "sequence2text(X_train[0])"
   ]
  },
  {
   "cell_type": "code",
   "execution_count": 7,
   "metadata": {},
   "outputs": [],
   "source": [
    "# truncate and pad input sequences\n",
    "max_review_length = 500\n",
    "X_train = sequence.pad_sequences(X_train, maxlen=max_review_length)\n",
    "X_test = sequence.pad_sequences(X_test, maxlen=max_review_length)"
   ]
  },
  {
   "cell_type": "code",
   "execution_count": 8,
   "metadata": {},
   "outputs": [
    {
     "output_type": "execute_result",
     "data": {
      "text/plain": [
       "\"                                                                                                                                                                                                                                                                                          this film was just brilliant casting location scenery story direction everyone's really suited the part they played and you could just imagine being there robert  is an amazing actor and now the same being director  father came from the same scottish island as myself so i loved the fact there was a real connection with this film the witty remarks throughout the film were great it was just brilliant so much that i bought the film as soon as it was released for  and would recommend it to everyone to watch and the fly  was amazing really cried at the end it was so sad and you know what they say if you cry at a film it must have been good and this definitely was also  to the two little  that played the  of norman and paul they were just brilliant children are often left out of the  list i think because the stars that play them all grown up are such a big  for the whole film but these children are amazing and should be  for what they have done don't you think the whole story was so lovely because it was true and was someone's life after all that was  with us all\""
      ]
     },
     "metadata": {},
     "execution_count": 8
    }
   ],
   "source": [
    "sequence2text(X_train[0])"
   ]
  },
  {
   "cell_type": "code",
   "execution_count": 12,
   "metadata": {},
   "outputs": [],
   "source": [
    "embedding_layer = Embedding(input_dim= top_words,\n",
    "                            output_dim = 100,\n",
    "                            input_length= max_review_length)"
   ]
  },
  {
   "cell_type": "code",
   "execution_count": 13,
   "metadata": {},
   "outputs": [
    {
     "output_type": "stream",
     "name": "stdout",
     "text": [
      "Model: \"sequential\"\n",
      "_________________________________________________________________\n",
      "Layer (type)                 Output Shape              Param #   \n",
      "=================================================================\n",
      "embedding (Embedding)        (None, 500, 100)          500000    \n",
      "_________________________________________________________________\n",
      "lstm (LSTM)                  (None, 100)               80400     \n",
      "_________________________________________________________________\n",
      "dense (Dense)                (None, 1)                 101       \n",
      "=================================================================\n",
      "Total params: 580,501\n",
      "Trainable params: 580,501\n",
      "Non-trainable params: 0\n",
      "_________________________________________________________________\n",
      "None\n",
      "250/250 [==============================] - 408s 2s/step - loss: 0.5734 - accuracy: 0.6759 - val_loss: 0.3499 - val_accuracy: 0.8556\n"
     ]
    }
   ],
   "source": [
    "# create the model\n",
    "model = Sequential()\n",
    "model.add(embedding_layer)\n",
    "model.add(LSTM(100))\n",
    "model.add(Dense(1, activation='sigmoid'))\n",
    "model.compile(loss='binary_crossentropy', optimizer='adam', metrics=['accuracy'])\n",
    "print(model.summary())\n",
    "history = model.fit(X_train, y_train, validation_data=(X_test, y_test), epochs=1, batch_size=100)"
   ]
  },
  {
   "cell_type": "code",
   "execution_count": 18,
   "metadata": {},
   "outputs": [
    {
     "output_type": "stream",
     "name": "stdout",
     "text": [
      "{'loss': [0.46567636728286743], 'accuracy': [0.7703999876976013], 'val_loss': [0.349908709526062], 'val_accuracy': [0.8555600047111511]}\n"
     ]
    }
   ],
   "source": [
    "print(history.history)"
   ]
  },
  {
   "cell_type": "code",
   "execution_count": 11,
   "metadata": {},
   "outputs": [],
   "source": []
  },
  {
   "cell_type": "code",
   "execution_count": 19,
   "metadata": {},
   "outputs": [],
   "source": [
    "y_pred = model.predict(X_test)"
   ]
  },
  {
   "cell_type": "code",
   "execution_count": 49,
   "metadata": {},
   "outputs": [
    {
     "output_type": "stream",
     "name": "stdout",
     "text": [
      "Predicted : 0.0  True class :  1  Certainty :  0.6934072971343994\n                                                                                                                                                                                                                                                                                                                                        many people have said that this movie was not a good movie at a horror perspective i agree it was not very scary it did have some gruesome ways of torture yes  going where they shouldn't but not scary but it was a good movie at a comedic stand point i thought it was hilarious such bad acting from   with his stupid   and every second word he said came out as what is  then the angry mob at his house with one of them holding a sign saying we're not gonna take it which is a song from his band twisted sister but i think the part that made me laugh the most was the one  wife that was dead and   was holding her up and making her dance when i saw that i broke out in tears so i would not recommend this for  horror lovers but for those who love horror for its comedy i recommend this movie 100\n\nPredicted : 1.0  True class :  0  Certainty :  0.5630238652229309\n                                                                                                                                                                                                                                                                                                                                             here's the spoiler at the end of the movie a little piece of you dies you'll spend the rest of your life searching in  for that missing piece but it's gone it's gone you'll  the streets at night  into your  as they sit down for dinner friends and family will try to  when exactly you turned into the walking dead you'll answer their questions and concerns with a blank  and some  about a   when   makes the movie of the month a series of mysterious murders will take place in your city you'll wake up the next morning  up on the floor of the kitchen with a  taste of brains in your mouth then you'll  into the living room and onto the  you'll  at the wall wet yourself a little and then begin to laugh  because once your dead inside jake  in a  is actually pretty damn funny\n\nPredicted : 0.0  True class :  1  Certainty :  0.8925799429416656\n                                                                                                                                                                         dad  and i  both had a good time watching the flick today for a guy primarily known for serious roles de niro is a  comic actor of course it helps to have his past film images to play against consider that one of those roles 15 minutes was a cop having to deal with the  of the mass media and you have an interesting set of compare contrast performances br br murphy plays another of his   sort of characters  plays a  of himself a parallel world self who was best known for   and not star trek br br it's interesting to watch how the film comments on the  between the reality of police work and its fictional  in tv and film   on the proper means of  across a car hood de niro points out   the hood finish ironically as the film progresses de  character begins to  the  of tv cop reality into the real world case he's working br br the film draws its inspiration from a  of  so one could make the comment it is  well so what satire needs to  its humor in order to exist and besides the film does have quirky moments of originality for example i'm reasonably sure the method of the  death has never been done before br br one  about the reality of the weapons involved shouldn't those guns have had some kind of  in order to  steel those bullets had to have enough  to  and any highest level of  is at the moment of  so  a  of these  killer bullets should have driven the  back onto their  oh what the heck it's a satire maybe the lack of  is itself a satire on the b f guns used so  in thrillers br br\n\n"
     ]
    }
   ],
   "source": [
    "k = 0\n",
    "while True:\n",
    "    i = np.random.randint(len(X_test))\n",
    "    if k == 3 : break\n",
    "    pred = np.round(y_pred[i][0])\n",
    "    true = y_test[i]\n",
    "    if pred != true:\n",
    "        print(\"Predicted :\",pred, \" True class : \",true, \" Certainty : \", np.abs(true - y_pred[i][0]) )\n",
    "        print(sequence2text(X_test[i]))\n",
    "        print()\n",
    "        k += 1"
   ]
  },
  {
   "cell_type": "code",
   "execution_count": 51,
   "metadata": {},
   "outputs": [
    {
     "output_type": "stream",
     "name": "stdout",
     "text": [
      "              precision    recall  f1-score   support\n\n    Negative       0.82      0.91      0.86     12500\n    Positive       0.90      0.80      0.85     12500\n\n    accuracy                           0.86     25000\n   macro avg       0.86      0.86      0.86     25000\nweighted avg       0.86      0.86      0.86     25000\n\n"
     ]
    }
   ],
   "source": [
    "from sklearn.metrics import classification_report\n",
    "target_names = ['Negative','Positive']\n",
    "print(classification_report(y_test, np.round(y_pred), target_names=target_names))"
   ]
  },
  {
   "cell_type": "code",
   "execution_count": null,
   "metadata": {},
   "outputs": [],
   "source": [
    "# embeddings_index = {}\n",
    "# f = open('glove.6B.100d.txt','r',encoding=\"utf-8\")\n",
    "# for line in f:\n",
    "#     values = line.split()\n",
    "#     word = values[0]\n",
    "#     coefs = np.asarray(values[1:], dtype='float32')\n",
    "#     embeddings_index[word] = coefs\n",
    "# f.close()\n",
    "\n",
    "# print('Found %s word vectors.' % len(embeddings_index))"
   ]
  },
  {
   "cell_type": "code",
   "execution_count": null,
   "metadata": {},
   "outputs": [],
   "source": [
    "# embedding_matrix = np.zeros((len(index) + 1, 100))\n",
    "# for word, i in index.items():\n",
    "#     embedding_vector = embeddings_index.get(word)\n",
    "#     if embedding_vector is not None:\n",
    "#         # words not found in embedding index will be all-zeros.\n",
    "#         embedding_matrix[i] = embedding_vector"
   ]
  },
  {
   "cell_type": "code",
   "execution_count": null,
   "metadata": {},
   "outputs": [],
   "source": [
    "# embedding_layer = Embedding(input_dim= embedding_matrix.shape[0],\n",
    "#                             output_dim = embedding_matrix.shape[1],\n",
    "#                             input_length= max_review_length,\n",
    "#                             weights=[embedding_matrix],\n",
    "#                             trainable=False)"
   ]
  }
 ]
}